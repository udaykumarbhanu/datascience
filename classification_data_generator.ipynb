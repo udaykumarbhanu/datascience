{
 "cells": [
  {
   "cell_type": "code",
   "execution_count": 29,
   "metadata": {},
   "outputs": [],
   "source": [
    "# import libraries\n",
    "import numpy as np \n",
    "import pandas as pd\n",
    "from sklearn.datasets import make_classification"
   ]
  },
  {
   "cell_type": "markdown",
   "metadata": {},
   "source": [
    "# Create Simulated Data"
   ]
  },
  {
   "cell_type": "code",
   "execution_count": 30,
   "metadata": {
    "collapsed": true
   },
   "outputs": [],
   "source": [
    "# Create a simulated feature matrix and output vector with 100 samples,\n",
    "features, output = make_classification(n_samples = 100,\n",
    "                                       # ten features\n",
    "                                       n_features = 10,\n",
    "                                       # five features that actually predict the output's classes\n",
    "                                       n_informative = 5,\n",
    "                                       # five features that are random and unrelated to the output's classes\n",
    "                                       n_redundant = 5,\n",
    "                                       # three output classes\n",
    "                                       n_classes = 3,\n",
    "                                       # with 20% of observations in the first class, 30% in the second class,\n",
    "                                       # and 50% in the third class. ('None' makes balanced classes)\n",
    "                                       weights = [.2, .3, .8])"
   ]
  },
  {
   "cell_type": "code",
   "execution_count": 31,
   "metadata": {},
   "outputs": [],
   "source": [
    "feaures_df = pd.DataFrame(features)\n",
    "output_df = pd.DataFrame(output)"
   ]
  },
  {
   "cell_type": "markdown",
   "metadata": {},
   "source": [
    "#  View Data"
   ]
  },
  {
   "cell_type": "code",
   "execution_count": 32,
   "metadata": {},
   "outputs": [
    {
     "name": "stdout",
     "output_type": "stream",
     "text": [
      "Top 5 feature data :\n",
      "          0         1         2         3         4         5         6  \\\n",
      "0  1.595777 -1.428449  1.064555 -0.725258 -2.696506  0.465504 -2.076551   \n",
      "1  1.428114 -1.630763 -0.423105  0.281310 -3.343814  1.104418 -2.170808   \n",
      "2 -0.394103  0.909025 -0.145613 -1.135339 -2.984792  0.219528 -2.110188   \n",
      "3 -2.442865  2.305135  0.431304 -1.542063  0.742313 -0.288168 -0.934665   \n",
      "4 -2.807548  2.319064  0.733068 -1.246280  1.492534 -0.798119 -0.097457   \n",
      "\n",
      "          7         8         9  \n",
      "0  0.030618  0.426362 -1.455835  \n",
      "1  1.442693  0.586554  0.019025  \n",
      "2 -0.425676  1.589943  0.632766  \n",
      "3  0.682203  0.211804  0.056041  \n",
      "4  0.149101  0.262582 -0.027047  \n",
      "***********************************************\n",
      "Top 5 output data :\n",
      "   0\n",
      "0  1\n",
      "1  1\n",
      "2  2\n",
      "3  2\n",
      "4  2\n"
     ]
    }
   ],
   "source": [
    "# print top 5 data from both the df.\n",
    "print \"Top 5 feature data :\" \n",
    "print feaures_df.head()\n",
    "print \"***********************************************\"\n",
    "print \"Top 5 output data :\"\n",
    "print output_df.head()"
   ]
  },
  {
   "cell_type": "code",
   "execution_count": null,
   "metadata": {
    "collapsed": true
   },
   "outputs": [],
   "source": []
  }
 ],
 "metadata": {
  "kernelspec": {
   "display_name": "Python 2",
   "language": "python",
   "name": "python2"
  },
  "language_info": {
   "codemirror_mode": {
    "name": "ipython",
    "version": 2
   },
   "file_extension": ".py",
   "mimetype": "text/x-python",
   "name": "python",
   "nbconvert_exporter": "python",
   "pygments_lexer": "ipython2",
   "version": "2.7.13"
  }
 },
 "nbformat": 4,
 "nbformat_minor": 2
}
