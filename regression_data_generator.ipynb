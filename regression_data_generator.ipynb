{
 "cells": [
  {
   "cell_type": "code",
   "execution_count": 25,
   "metadata": {
    "collapsed": true
   },
   "outputs": [],
   "source": [
    "# import libraries\n",
    "import numpy as np\n",
    "import pandas as pd\n",
    "from sklearn.datasets import make_regression"
   ]
  },
  {
   "cell_type": "markdown",
   "metadata": {},
   "source": [
    "# Create Simulated Data"
   ]
  },
  {
   "cell_type": "code",
   "execution_count": 26,
   "metadata": {
    "collapsed": true
   },
   "outputs": [],
   "source": [
    "# Generate fetures, outputs, and true coefficient of 100 samples,\n",
    "features, output, coef = make_regression(n_samples = 100,\n",
    "                                         # three features\n",
    "                                         n_features = 3,\n",
    "                                         # where only two features are useful,\n",
    "                                         n_informative = 2,\n",
    "                                         # a single target value per observation\n",
    "                                         n_targets = 1,\n",
    "                                         # 0.0 standard deviation of the guassian noise\n",
    "                                         noise = 0.0,\n",
    "                                         # show the true coefficient used to generated the data\n",
    "                                         coef = True)"
   ]
  },
  {
   "cell_type": "code",
   "execution_count": 27,
   "metadata": {},
   "outputs": [],
   "source": [
    "feaures_df = pd.DataFrame(features, columns=['Store 1', 'Store 2', 'Store 3'])\n",
    "output_df = pd.DataFrame(output, columns=['Sales'])\n",
    "coef_df = pd.DataFrame(coef, columns=['Coefficient Values'])\n",
    "# print feaures_df.info()"
   ]
  },
  {
   "cell_type": "markdown",
   "metadata": {},
   "source": [
    "# View Data"
   ]
  },
  {
   "cell_type": "code",
   "execution_count": 28,
   "metadata": {},
   "outputs": [
    {
     "name": "stdout",
     "output_type": "stream",
     "text": [
      "Top 5 feature data :\n",
      "    Store 1   Store 2   Store 3\n",
      "0 -0.736759 -0.335319  1.527418\n",
      "1  0.911226  1.785437 -1.812938\n",
      "2  0.665771 -1.092870  1.996265\n",
      "3 -0.259073  0.147993  1.121084\n",
      "4 -1.857019 -0.987866  0.352124\n",
      "***********************************************\n",
      "Top 5 output data :\n",
      "        Sales\n",
      "0   92.639560\n",
      "1 -108.443397\n",
      "2  188.149205\n",
      "3   79.595698\n",
      "4  -48.125628\n",
      "***********************************************\n",
      "True coefficient values are :\n",
      "   Coefficient Values\n",
      "0           41.182779\n",
      "1            0.000000\n",
      "2           80.515838\n"
     ]
    }
   ],
   "source": [
    "# print top 5 data from both the df.\n",
    "print \"Top 5 feature data :\" \n",
    "print feaures_df.head()\n",
    "print \"***********************************************\"\n",
    "print \"Top 5 output data :\"\n",
    "print output_df.head()\n",
    "print \"***********************************************\"\n",
    "print \"True coefficient values are :\"\n",
    "print coef_df.head()"
   ]
  }
 ],
 "metadata": {
  "kernelspec": {
   "display_name": "Python 2",
   "language": "python",
   "name": "python2"
  },
  "language_info": {
   "codemirror_mode": {
    "name": "ipython",
    "version": 2
   },
   "file_extension": ".py",
   "mimetype": "text/x-python",
   "name": "python",
   "nbconvert_exporter": "python",
   "pygments_lexer": "ipython2",
   "version": "2.7.13"
  }
 },
 "nbformat": 4,
 "nbformat_minor": 2
}
